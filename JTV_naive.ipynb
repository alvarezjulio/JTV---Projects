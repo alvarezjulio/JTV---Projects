{
 "cells": [
  {
   "cell_type": "code",
   "execution_count": null,
   "metadata": {
    "collapsed": true
   },
   "outputs": [],
   "source": [
    "# sample try with jewelry"
   ]
  },
  {
   "cell_type": "code",
   "execution_count": 4,
   "metadata": {},
   "outputs": [],
   "source": [
    "from os import listdir\n",
    "directory_name = \"/Users/J.Alvarez/jtv/images\"\n",
    "image_names = listdir(\"/Users/J.Alvarez/jtv/images\")\n",
    "#image_names.remove('.DS_Store')\n",
    "#image_names.remove('._.DS_Store')"
   ]
  },
  {
   "cell_type": "code",
   "execution_count": 5,
   "metadata": {},
   "outputs": [
    {
     "name": "stderr",
     "output_type": "stream",
     "text": [
      "Using TensorFlow backend.\n"
     ]
    }
   ],
   "source": [
    "from keras import backend as K"
   ]
  },
  {
   "cell_type": "code",
   "execution_count": null,
   "metadata": {
    "collapsed": true
   },
   "outputs": [],
   "source": []
  },
  {
   "cell_type": "code",
   "execution_count": 6,
   "metadata": {
    "collapsed": true
   },
   "outputs": [],
   "source": [
    "#\"/Users/J.Alvarez/the_simpsons/kaggle_simpson_testset\""
   ]
  },
  {
   "cell_type": "code",
   "execution_count": 7,
   "metadata": {
    "collapsed": true
   },
   "outputs": [],
   "source": [
    "from PIL import Image\n",
    "import cv2\n",
    "\n",
    "imported_images = []\n",
    "\n",
    "#resize all images in the dataset for processing\n",
    "for image_name in image_names:\n",
    "    foo = cv2.imread(\"/Users/J.Alvarez/jtv/images/\" + image_name)\n",
    "    foo = cv2.resize(foo, (256, 256))\n",
    "    imported_images.append(foo)"
   ]
  },
  {
   "cell_type": "code",
   "execution_count": 8,
   "metadata": {
    "collapsed": true
   },
   "outputs": [],
   "source": [
    "import numpy as np\n",
    "\n",
    "#turn image into a 1D array\n",
    "def process_image(image, width):\n",
    "    out = []\n",
    "    for x in range(width):\n",
    "        for y in range(width):\n",
    "            for z in range(3): #account for RGB\n",
    "                out.append(image[x][y][z])\n",
    "    return np.asarray(out)\n",
    "\n",
    "#process all images into 1D arrays\n",
    "image_set = np.array([process_image(image, width = 256) for image in imported_images])"
   ]
  },
  {
   "cell_type": "code",
   "execution_count": 9,
   "metadata": {},
   "outputs": [
    {
     "name": "stdout",
     "output_type": "stream",
     "text": [
      "[[255 255 255 ..., 255 255 255]\n",
      " [255 255 255 ..., 255 255 255]\n",
      " [255 255 255 ..., 255 255 255]\n",
      " ..., \n",
      " [255 255 255 ..., 255 255 255]\n",
      " [255 255 255 ..., 255 255 255]\n",
      " [212 203 183 ..., 212 203 183]]\n"
     ]
    }
   ],
   "source": [
    "print(image_set)"
   ]
  },
  {
   "cell_type": "code",
   "execution_count": 10,
   "metadata": {},
   "outputs": [
    {
     "name": "stdout",
     "output_type": "stream",
     "text": [
      "0 1.38319e+12\n"
     ]
    }
   ],
   "source": [
    "#Script for Autoencoder\n",
    "import pandas as pd\n",
    "import tensorflow as tf\n",
    "from sklearn.model_selection import train_test_split\n",
    "from keras import backend as K\n",
    "\n",
    "image_width = 256\n",
    "pixels = image_width * image_width * 3\n",
    "hidden = 1000\n",
    "corruption_level = 0.25\n",
    "X = tf.placeholder(\"float\", [None, pixels], name = 'X')\n",
    "mask = tf.placeholder(\"float\", [None, pixels], name = 'mask')\n",
    "\n",
    "weight_max = 4 * np.sqrt(4 / (6. * (pixels + hidden)))\n",
    "weight_initial = tf.random_uniform(shape = [pixels, hidden], minval = -weight_max, maxval = weight_max)\n",
    "\n",
    "W = tf.Variable(weight_initial, name = 'W')\n",
    "b = tf.Variable(tf.zeros([hidden]), name = 'b')\n",
    "\n",
    "W_prime = tf.transpose(W)\n",
    "b_prime = tf.Variable(tf.zeros([pixels]), name = 'b_prime')\n",
    "\n",
    "def reparameterize(W = W, b = b):\n",
    "    epsilon = K.random_normal(shape = (1, hidden), mean = 0.)\n",
    "    return W + K.exp(b/2) * epsilon\n",
    "\n",
    "def model(X, mask, W, b, W_prime, b_prime):\n",
    "    tilde_X = mask * X\n",
    "\n",
    "    hidden_state = tf.nn.sigmoid(tf.matmul(tilde_X, W) + b)\n",
    "    out = tf.nn.sigmoid(tf.matmul(hidden_state, W_prime) + b_prime)\n",
    "    return out\n",
    "\n",
    "out = model(X, mask, W, b, W_prime, b_prime)\n",
    "\n",
    "cost = tf.reduce_sum(tf.pow(X-out, 2))\n",
    "optimization = tf.train.GradientDescentOptimizer(0.02).minimize(cost)\n",
    "\n",
    "x_train, x_test = train_test_split(image_set)\n",
    "\n",
    "sess = tf.Session()\n",
    "#you need to initialize all variables\n",
    "sess.run(tf.global_variables_initializer())\n",
    "for i in range(1):\n",
    "    for start, end in zip(range(0, len(x_train), 128), range(128, len(x_train), 128)):\n",
    "        input_ = x_train[start:end]\n",
    "        mask_np = np.random.binomial(1, 1 - corruption_level, input_.shape)\n",
    "        sess.run(optimization, feed_dict = {X: input_, mask: mask_np})\n",
    "    mask_np = np.random.binomial(1, 1 - corruption_level, x_test.shape)\n",
    "    print(i, sess.run(cost, feed_dict = {X: x_test, mask: mask_np}))"
   ]
  },
  {
   "cell_type": "code",
   "execution_count": 20,
   "metadata": {
    "collapsed": true
   },
   "outputs": [],
   "source": [
    "masknp = np.random.binomial(1, 1 - corruption_level, image_set.shape)\n",
    "\n",
    "def hidden_state(X, mask, W, b):\n",
    "    tilde_X = mask * X\n",
    "    \n",
    "    state = tf.nn.sigmoid(tf.matmul(tilde_X, W) + b)\n",
    "    return state\n",
    "\n",
    "def euclidean_distance(arr1, arr2):\n",
    "    x = 0\n",
    "    for i in range(len(arr1)):\n",
    "        x += pow(arr1[i] - arr2[i], 2)\n",
    "    return np.sqrt(x)\n",
    "\n",
    "def search(image):\n",
    "    hidden_states = [sess.run(hidden_state(X, mask, W, b),\n",
    "                              feed_dict={X: im.reshape(1, pixels), mask: np.random.binomial(1, 1-corruption_level, (1, pixels))})\n",
    "                    for im in image_set]\n",
    "    query = sess.run(hidden_state(X, mask, W, b),\n",
    "                              feed_dict={X: image.reshape(1,pixels), mask: np.random.binomial(1, 1-corruption_level, (1, pixels))})\n",
    "    starting_state = int(np.random.random()*len(hidden_states)) #choose random starting state\n",
    "    best_states = [imported_images[starting_state]]\n",
    "    distance = euclidean_distance(query[0], hidden_states[starting_state][0]) #Calculate similarity between hidden states\n",
    "    for i in range(len(hidden_states)):\n",
    "        dist = euclidean_distance(query[0], hidden_states[i][0])\n",
    "        if dist <= distance:\n",
    "            distance = dist #as the method progresses, it gets better at identifying similiar images\n",
    "            best_states.append(imported_images[i])\n",
    "    if len(best_states)>0:\n",
    "        return best_states\n",
    "    else:\n",
    "        return best_states[len(best_states)-101:]"
   ]
  },
  {
   "cell_type": "code",
   "execution_count": 14,
   "metadata": {},
   "outputs": [
    {
     "data": {
      "image/png": "[encoded data removed]",
      "text/plain": [
       "<matplotlib.figure.Figure at 0x18202def60>"
      ]
     },
     "metadata": {},
     "output_type": "display_data"
    }
   ],
   "source": [
    "image_name = \"/Users/J.Alvarez/jtv/test/ABA054.jpg\" #Image to be used as query\n",
    "image = cv2.imread(image_name)\n",
    "plt.imshow(cv2.cvtColor(image, cv2.COLOR_BGR2RGB)); plt.axis('off')\n",
    "plt.show()"
   ]
  },
  {
   "cell_type": "code",
   "execution_count": 28,
   "metadata": {},
   "outputs": [],
   "source": [
    "import matplotlib.pyplot as plt\n",
    "import matplotlib.image as mpimg\n",
    "\n",
    "image_name = \"/Users/J.Alvarez/jtv/test/ABA054.jpg\" #Image to be used as query\n",
    "#image_name = \"/Users/J.Alvarez/the_simpsons/test.jpg\" #Image to be used as query\n",
    "\n",
    "image = cv2.imread(image_name)\n",
    "image = cv2.resize(image, (256, 256))\n",
    "plt.imshow(cv2.cvtColor(image, cv2.COLOR_BGR2RGB)); plt.axis('off')\n",
    "image = process_image(image, 256)"
   ]
  },
  {
   "cell_type": "code",
   "execution_count": 18,
   "metadata": {},
   "outputs": [
    {
     "data": {
      "image/png": "[encoded data removed]",
      "text/plain": [
       "<matplotlib.figure.Figure at 0x182bacd080>"
      ]
     },
     "metadata": {},
     "output_type": "display_data"
    }
   ],
   "source": [
    "plt.show()"
   ]
  },
  {
   "cell_type": "code",
   "execution_count": 21,
   "metadata": {},
   "outputs": [],
   "source": [
    "results = search(image) #Search the database using image"
   ]
  },
  {
   "cell_type": "code",
   "execution_count": 30,
   "metadata": {},
   "outputs": [
    {
     "name": "stdout",
     "output_type": "stream",
     "text": [
      "297\n"
     ]
    }
   ],
   "source": [
    "print(len(results))\n",
    "slots = 0\n",
    "plt.figure(figsize = (256,256))\n",
    "for im in results[::-1]: #reads through results backwards (more similiar images first)\n",
    "    plt.subplot(20, 20, slots + 1) \n",
    "    plt.imshow(cv2.cvtColor(im, cv2.COLOR_BGR2RGB)); plt.axis('off')\n",
    "    slots += 1"
   ]
  },
  {
   "cell_type": "code",
   "execution_count": 31,
   "metadata": {},
   "outputs": [
    {
     "name": "stderr",
     "output_type": "stream",
     "text": [
      "IOPub data rate exceeded.\n",
      "The notebook server will temporarily stop sending output\n",
      "to the client in order to avoid crashing it.\n",
      "To change this limit, set the config variable\n",
      "`--NotebookApp.iopub_data_rate_limit`.\n"
     ]
    }
   ],
   "source": [
    "plt.show()"
   ]
  },
  {
   "cell_type": "code",
   "execution_count": null,
   "metadata": {
    "collapsed": true
   },
   "outputs": [],
   "source": []
  }
 ],
 "metadata": {
  "kernelspec": {
   "display_name": "Python 3",
   "language": "python",
   "name": "python3"
  },
  "language_info": {
   "codemirror_mode": {
    "name": "ipython",
    "version": 3
   },
   "file_extension": ".py",
   "mimetype": "text/x-python",
   "name": "python",
   "nbconvert_exporter": "python",
   "pygments_lexer": "ipython3",
   "version": "3.6.3"
  }
 },
 "nbformat": 4,
 "nbformat_minor": 2
}
